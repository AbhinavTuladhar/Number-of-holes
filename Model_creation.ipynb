{
 "cells": [
  {
   "cell_type": "code",
   "execution_count": 78,
   "metadata": {},
   "outputs": [],
   "source": [
    "import pandas as pd\n",
    "import numpy as np \n",
    "\n",
    "from sklearn.model_selection import train_test_split\n",
    "from sklearn.base import BaseEstimator\n",
    "\n",
    "from matplotlib import pyplot as plt\n",
    "\n",
    "from keras.models import Sequential\n",
    "from keras.layers import Dense\n",
    "from keras.optimizers import SGD, Adam\n",
    "from keras.callbacks import LearningRateScheduler, EarlyStopping\n",
    "\n",
    "from utils import count_digits, extract_features, predict"
   ]
  },
  {
   "cell_type": "code",
   "execution_count": 2,
   "metadata": {},
   "outputs": [
    {
     "data": {
      "text/html": [
       "<div>\n",
       "<style scoped>\n",
       "    .dataframe tbody tr th:only-of-type {\n",
       "        vertical-align: middle;\n",
       "    }\n",
       "\n",
       "    .dataframe tbody tr th {\n",
       "        vertical-align: top;\n",
       "    }\n",
       "\n",
       "    .dataframe thead th {\n",
       "        text-align: right;\n",
       "    }\n",
       "</style>\n",
       "<table border=\"1\" class=\"dataframe\">\n",
       "  <thead>\n",
       "    <tr style=\"text-align: right;\">\n",
       "      <th></th>\n",
       "      <th>Number</th>\n",
       "      <th>Target</th>\n",
       "    </tr>\n",
       "  </thead>\n",
       "  <tbody>\n",
       "    <tr>\n",
       "      <th>0</th>\n",
       "      <td>5030</td>\n",
       "      <td>2</td>\n",
       "    </tr>\n",
       "    <tr>\n",
       "      <th>1</th>\n",
       "      <td>3252</td>\n",
       "      <td>0</td>\n",
       "    </tr>\n",
       "    <tr>\n",
       "      <th>2</th>\n",
       "      <td>2114</td>\n",
       "      <td>1</td>\n",
       "    </tr>\n",
       "    <tr>\n",
       "      <th>3</th>\n",
       "      <td>5212</td>\n",
       "      <td>0</td>\n",
       "    </tr>\n",
       "    <tr>\n",
       "      <th>4</th>\n",
       "      <td>1668</td>\n",
       "      <td>4</td>\n",
       "    </tr>\n",
       "    <tr>\n",
       "      <th>...</th>\n",
       "      <td>...</td>\n",
       "      <td>...</td>\n",
       "    </tr>\n",
       "    <tr>\n",
       "      <th>495</th>\n",
       "      <td>7657</td>\n",
       "      <td>1</td>\n",
       "    </tr>\n",
       "    <tr>\n",
       "      <th>496</th>\n",
       "      <td>1421</td>\n",
       "      <td>1</td>\n",
       "    </tr>\n",
       "    <tr>\n",
       "      <th>497</th>\n",
       "      <td>2889</td>\n",
       "      <td>5</td>\n",
       "    </tr>\n",
       "    <tr>\n",
       "      <th>498</th>\n",
       "      <td>4311</td>\n",
       "      <td>1</td>\n",
       "    </tr>\n",
       "    <tr>\n",
       "      <th>499</th>\n",
       "      <td>5171</td>\n",
       "      <td>0</td>\n",
       "    </tr>\n",
       "  </tbody>\n",
       "</table>\n",
       "<p>500 rows × 2 columns</p>\n",
       "</div>"
      ],
      "text/plain": [
       "     Number  Target\n",
       "0      5030       2\n",
       "1      3252       0\n",
       "2      2114       1\n",
       "3      5212       0\n",
       "4      1668       4\n",
       "..      ...     ...\n",
       "495    7657       1\n",
       "496    1421       1\n",
       "497    2889       5\n",
       "498    4311       1\n",
       "499    5171       0\n",
       "\n",
       "[500 rows x 2 columns]"
      ]
     },
     "execution_count": 2,
     "metadata": {},
     "output_type": "execute_result"
    }
   ],
   "source": [
    "df = pd.read_csv('Dataset.csv')\n",
    "df"
   ]
  },
  {
   "cell_type": "code",
   "execution_count": 4,
   "metadata": {},
   "outputs": [
    {
     "data": {
      "text/plain": [
       "['0', '1', '2', '3', '4', '5', '6', '7', '8', '9']"
      ]
     },
     "execution_count": 4,
     "metadata": {},
     "output_type": "execute_result"
    }
   ],
   "source": [
    "numbers = range(0, 10)\n",
    "numbers = list(map(str, numbers))\n",
    "numbers"
   ]
  },
  {
   "cell_type": "code",
   "execution_count": 70,
   "metadata": {},
   "outputs": [
    {
     "data": {
      "text/plain": [
       "['0 count',\n",
       " '1 count',\n",
       " '2 count',\n",
       " '3 count',\n",
       " '4 count',\n",
       " '5 count',\n",
       " '6 count',\n",
       " '7 count',\n",
       " '8 count',\n",
       " '9 count']"
      ]
     },
     "execution_count": 70,
     "metadata": {},
     "output_type": "execute_result"
    }
   ],
   "source": [
    "column_names = list()\n",
    "\n",
    "for digit in numbers:\n",
    "    column_names.append(f'{digit} count')\n",
    "    \n",
    "with open('Column names.txt', 'w') as file:\n",
    "    for name in column_names:\n",
    "        file.write(f'{name}\\n')\n",
    "    \n",
    "column_names"
   ]
  },
  {
   "cell_type": "code",
   "execution_count": 13,
   "metadata": {},
   "outputs": [],
   "source": [
    "# Create a function which counts the number of each digit\n",
    "# def count_digits(number: int) -> np.array:\n",
    "#     # Make a dictionary containing a count of occurence of each digit\n",
    "#     digit_dict = {x: 0 for x in range(0, 10)}\n",
    "#     for digit in str(number):\n",
    "#         # Increment the corresponding digit on each occurence.\n",
    "#         digit_dict[int(digit)] += 1\n",
    "        \n",
    "#     to_return = list(digit_dict.values())\n",
    "#     return np.array(to_return)"
   ]
  },
  {
   "cell_type": "code",
   "execution_count": 71,
   "metadata": {},
   "outputs": [
    {
     "data": {
      "text/plain": [
       "0      [2, 0, 0, 1, 0, 1, 0, 0, 0, 0]\n",
       "1      [0, 0, 2, 1, 0, 1, 0, 0, 0, 0]\n",
       "2      [0, 2, 1, 0, 1, 0, 0, 0, 0, 0]\n",
       "3      [0, 1, 2, 0, 0, 1, 0, 0, 0, 0]\n",
       "4      [0, 1, 0, 0, 0, 0, 2, 0, 1, 0]\n",
       "                    ...              \n",
       "495    [0, 0, 0, 0, 0, 1, 1, 2, 0, 0]\n",
       "496    [0, 2, 1, 0, 1, 0, 0, 0, 0, 0]\n",
       "497    [0, 0, 1, 0, 0, 0, 0, 0, 2, 1]\n",
       "498    [0, 2, 0, 1, 1, 0, 0, 0, 0, 0]\n",
       "499    [0, 2, 0, 0, 0, 1, 0, 1, 0, 0]\n",
       "Name: Number, Length: 500, dtype: object"
      ]
     },
     "execution_count": 71,
     "metadata": {},
     "output_type": "execute_result"
    }
   ],
   "source": [
    "ans = df['Number'].apply(count_digits)\n",
    "ans"
   ]
  },
  {
   "cell_type": "code",
   "execution_count": 31,
   "metadata": {},
   "outputs": [
    {
     "data": {
      "text/html": [
       "<div>\n",
       "<style scoped>\n",
       "    .dataframe tbody tr th:only-of-type {\n",
       "        vertical-align: middle;\n",
       "    }\n",
       "\n",
       "    .dataframe tbody tr th {\n",
       "        vertical-align: top;\n",
       "    }\n",
       "\n",
       "    .dataframe thead th {\n",
       "        text-align: right;\n",
       "    }\n",
       "</style>\n",
       "<table border=\"1\" class=\"dataframe\">\n",
       "  <thead>\n",
       "    <tr style=\"text-align: right;\">\n",
       "      <th></th>\n",
       "      <th>Number</th>\n",
       "      <th>0 count</th>\n",
       "      <th>1 count</th>\n",
       "      <th>2 count</th>\n",
       "      <th>3 count</th>\n",
       "      <th>4 count</th>\n",
       "      <th>5 count</th>\n",
       "      <th>6 count</th>\n",
       "      <th>7 count</th>\n",
       "      <th>8 count</th>\n",
       "      <th>9 count</th>\n",
       "      <th>Target</th>\n",
       "    </tr>\n",
       "  </thead>\n",
       "  <tbody>\n",
       "    <tr>\n",
       "      <th>0</th>\n",
       "      <td>5030</td>\n",
       "      <td>2</td>\n",
       "      <td>0</td>\n",
       "      <td>0</td>\n",
       "      <td>1</td>\n",
       "      <td>0</td>\n",
       "      <td>1</td>\n",
       "      <td>0</td>\n",
       "      <td>0</td>\n",
       "      <td>0</td>\n",
       "      <td>0</td>\n",
       "      <td>2</td>\n",
       "    </tr>\n",
       "    <tr>\n",
       "      <th>1</th>\n",
       "      <td>3252</td>\n",
       "      <td>0</td>\n",
       "      <td>0</td>\n",
       "      <td>2</td>\n",
       "      <td>1</td>\n",
       "      <td>0</td>\n",
       "      <td>1</td>\n",
       "      <td>0</td>\n",
       "      <td>0</td>\n",
       "      <td>0</td>\n",
       "      <td>0</td>\n",
       "      <td>0</td>\n",
       "    </tr>\n",
       "    <tr>\n",
       "      <th>2</th>\n",
       "      <td>2114</td>\n",
       "      <td>0</td>\n",
       "      <td>2</td>\n",
       "      <td>1</td>\n",
       "      <td>0</td>\n",
       "      <td>1</td>\n",
       "      <td>0</td>\n",
       "      <td>0</td>\n",
       "      <td>0</td>\n",
       "      <td>0</td>\n",
       "      <td>0</td>\n",
       "      <td>1</td>\n",
       "    </tr>\n",
       "    <tr>\n",
       "      <th>3</th>\n",
       "      <td>5212</td>\n",
       "      <td>0</td>\n",
       "      <td>1</td>\n",
       "      <td>2</td>\n",
       "      <td>0</td>\n",
       "      <td>0</td>\n",
       "      <td>1</td>\n",
       "      <td>0</td>\n",
       "      <td>0</td>\n",
       "      <td>0</td>\n",
       "      <td>0</td>\n",
       "      <td>0</td>\n",
       "    </tr>\n",
       "    <tr>\n",
       "      <th>4</th>\n",
       "      <td>1668</td>\n",
       "      <td>0</td>\n",
       "      <td>1</td>\n",
       "      <td>0</td>\n",
       "      <td>0</td>\n",
       "      <td>0</td>\n",
       "      <td>0</td>\n",
       "      <td>2</td>\n",
       "      <td>0</td>\n",
       "      <td>1</td>\n",
       "      <td>0</td>\n",
       "      <td>4</td>\n",
       "    </tr>\n",
       "    <tr>\n",
       "      <th>...</th>\n",
       "      <td>...</td>\n",
       "      <td>...</td>\n",
       "      <td>...</td>\n",
       "      <td>...</td>\n",
       "      <td>...</td>\n",
       "      <td>...</td>\n",
       "      <td>...</td>\n",
       "      <td>...</td>\n",
       "      <td>...</td>\n",
       "      <td>...</td>\n",
       "      <td>...</td>\n",
       "      <td>...</td>\n",
       "    </tr>\n",
       "    <tr>\n",
       "      <th>495</th>\n",
       "      <td>7657</td>\n",
       "      <td>0</td>\n",
       "      <td>0</td>\n",
       "      <td>0</td>\n",
       "      <td>0</td>\n",
       "      <td>0</td>\n",
       "      <td>1</td>\n",
       "      <td>1</td>\n",
       "      <td>2</td>\n",
       "      <td>0</td>\n",
       "      <td>0</td>\n",
       "      <td>1</td>\n",
       "    </tr>\n",
       "    <tr>\n",
       "      <th>496</th>\n",
       "      <td>1421</td>\n",
       "      <td>0</td>\n",
       "      <td>2</td>\n",
       "      <td>1</td>\n",
       "      <td>0</td>\n",
       "      <td>1</td>\n",
       "      <td>0</td>\n",
       "      <td>0</td>\n",
       "      <td>0</td>\n",
       "      <td>0</td>\n",
       "      <td>0</td>\n",
       "      <td>1</td>\n",
       "    </tr>\n",
       "    <tr>\n",
       "      <th>497</th>\n",
       "      <td>2889</td>\n",
       "      <td>0</td>\n",
       "      <td>0</td>\n",
       "      <td>1</td>\n",
       "      <td>0</td>\n",
       "      <td>0</td>\n",
       "      <td>0</td>\n",
       "      <td>0</td>\n",
       "      <td>0</td>\n",
       "      <td>2</td>\n",
       "      <td>1</td>\n",
       "      <td>5</td>\n",
       "    </tr>\n",
       "    <tr>\n",
       "      <th>498</th>\n",
       "      <td>4311</td>\n",
       "      <td>0</td>\n",
       "      <td>2</td>\n",
       "      <td>0</td>\n",
       "      <td>1</td>\n",
       "      <td>1</td>\n",
       "      <td>0</td>\n",
       "      <td>0</td>\n",
       "      <td>0</td>\n",
       "      <td>0</td>\n",
       "      <td>0</td>\n",
       "      <td>1</td>\n",
       "    </tr>\n",
       "    <tr>\n",
       "      <th>499</th>\n",
       "      <td>5171</td>\n",
       "      <td>0</td>\n",
       "      <td>2</td>\n",
       "      <td>0</td>\n",
       "      <td>0</td>\n",
       "      <td>0</td>\n",
       "      <td>1</td>\n",
       "      <td>0</td>\n",
       "      <td>1</td>\n",
       "      <td>0</td>\n",
       "      <td>0</td>\n",
       "      <td>0</td>\n",
       "    </tr>\n",
       "  </tbody>\n",
       "</table>\n",
       "<p>500 rows × 12 columns</p>\n",
       "</div>"
      ],
      "text/plain": [
       "     Number  0 count  1 count  2 count  ...  7 count  8 count  9 count  Target\n",
       "0      5030        2        0        0  ...        0        0        0       2\n",
       "1      3252        0        0        2  ...        0        0        0       0\n",
       "2      2114        0        2        1  ...        0        0        0       1\n",
       "3      5212        0        1        2  ...        0        0        0       0\n",
       "4      1668        0        1        0  ...        0        1        0       4\n",
       "..      ...      ...      ...      ...  ...      ...      ...      ...     ...\n",
       "495    7657        0        0        0  ...        2        0        0       1\n",
       "496    1421        0        2        1  ...        0        0        0       1\n",
       "497    2889        0        0        1  ...        0        2        1       5\n",
       "498    4311        0        2        0  ...        0        0        0       1\n",
       "499    5171        0        2        0  ...        1        0        0       0\n",
       "\n",
       "[500 rows x 12 columns]"
      ]
     },
     "execution_count": 31,
     "metadata": {},
     "output_type": "execute_result"
    }
   ],
   "source": [
    "df_new = pd.DataFrame(ans.to_list(), columns=column_names)\n",
    "df_new['Number'] = df['Number']\n",
    "df_new['Target'] = df['Target']\n",
    "df = df_new\n",
    "df = df[['Number'] + [ col for col in df.columns if col != 'Number' ] ]\n",
    "df"
   ]
  },
  {
   "cell_type": "markdown",
   "metadata": {},
   "source": [
    "Training and testing."
   ]
  },
  {
   "cell_type": "code",
   "execution_count": 34,
   "metadata": {},
   "outputs": [],
   "source": [
    "X = df.drop(['Number', 'Target'], axis=1)\n",
    "y = df['Target']"
   ]
  },
  {
   "cell_type": "code",
   "execution_count": 43,
   "metadata": {},
   "outputs": [],
   "source": [
    "X_train, X_test, y_train, y_test = train_test_split(\n",
    "    X, y, train_size=0.8, random_state=949\n",
    ")"
   ]
  },
  {
   "cell_type": "code",
   "execution_count": 44,
   "metadata": {},
   "outputs": [],
   "source": [
    "optimizer = Adam(learning_rate=0.01)\n",
    "\n",
    "model = Sequential()\n",
    "model.add(Dense(20, input_dim=10, activation='relu', kernel_initializer='uniform'))\n",
    "model.add(Dense(20, kernel_initializer='uniform', activation='relu'))\n",
    "model.add(Dense(1, activation='linear'))\n",
    "\n",
    "model.compile(loss='mean_squared_error', optimizer=optimizer)"
   ]
  },
  {
   "cell_type": "code",
   "execution_count": 72,
   "metadata": {},
   "outputs": [
    {
     "name": "stdout",
     "output_type": "stream",
     "text": [
      "Epoch 1/50\n",
      "160/160 [==============================] - 1s 4ms/step - loss: 1.7050e-04 - val_loss: 2.9968e-05\n",
      "Epoch 2/50\n",
      "160/160 [==============================] - 1s 4ms/step - loss: 2.0670e-05 - val_loss: 1.7608e-05\n",
      "Epoch 3/50\n",
      "160/160 [==============================] - 1s 4ms/step - loss: 0.0032 - val_loss: 0.0361\n",
      "Epoch 4/50\n",
      "160/160 [==============================] - 1s 4ms/step - loss: 0.0115 - val_loss: 5.2738e-04\n",
      "Epoch 5/50\n",
      "160/160 [==============================] - 1s 5ms/step - loss: 2.2210e-04 - val_loss: 2.3467e-05\n",
      "Epoch 6/50\n",
      "160/160 [==============================] - 1s 4ms/step - loss: 1.2321e-05 - val_loss: 6.5450e-06\n",
      "Epoch 7/50\n",
      "160/160 [==============================] - 1s 4ms/step - loss: 3.8450e-06 - val_loss: 5.1638e-07\n",
      "Epoch 8/50\n",
      "160/160 [==============================] - 1s 4ms/step - loss: 1.6617e-07 - val_loss: 1.6525e-07\n",
      "Epoch 9/50\n",
      "160/160 [==============================] - 1s 4ms/step - loss: 1.3991e-07 - val_loss: 3.1156e-08\n",
      "Epoch 10/50\n",
      "160/160 [==============================] - 1s 4ms/step - loss: 5.8940e-08 - val_loss: 5.8346e-08\n",
      "Epoch 11/50\n",
      "160/160 [==============================] - 1s 4ms/step - loss: 2.2763e-07 - val_loss: 4.1573e-07\n",
      "Epoch 12/50\n",
      "160/160 [==============================] - 1s 4ms/step - loss: 0.0024 - val_loss: 0.0083\n",
      "Epoch 13/50\n",
      "160/160 [==============================] - 1s 4ms/step - loss: 0.0042 - val_loss: 4.2389e-05\n",
      "Epoch 14/50\n",
      "160/160 [==============================] - 1s 4ms/step - loss: 1.0898e-04 - val_loss: 1.7186e-05\n",
      "Epoch 15/50\n",
      "160/160 [==============================] - 1s 4ms/step - loss: 8.6748e-06 - val_loss: 1.0972e-05\n",
      "Epoch 16/50\n",
      "160/160 [==============================] - 1s 4ms/step - loss: 3.2339e-05 - val_loss: 8.9290e-05\n",
      "Epoch 17/50\n",
      "160/160 [==============================] - 1s 4ms/step - loss: 0.0014 - val_loss: 0.0017\n",
      "Epoch 18/50\n",
      "160/160 [==============================] - 1s 4ms/step - loss: 0.0018 - val_loss: 3.1713e-04\n",
      "Epoch 19/50\n",
      "160/160 [==============================] - 1s 4ms/step - loss: 0.0041 - val_loss: 7.4332e-04\n",
      "Epoch 19: early stopping\n"
     ]
    }
   ],
   "source": [
    "stopper = EarlyStopping(monitor='val_loss', patience=10, verbose=1)\n",
    "\n",
    "history = model.fit(\n",
    "    X_train, y_train, \n",
    "    epochs=50, \n",
    "    batch_size=2, \n",
    "    validation_split=0.2, \n",
    "    verbose=1,\n",
    "    callbacks=[stopper]\n",
    ")"
   ]
  },
  {
   "cell_type": "code",
   "execution_count": 73,
   "metadata": {},
   "outputs": [
    {
     "data": {
      "image/png": "[encoded data removed]",
      "text/plain": [
       "<Figure size 1440x576 with 1 Axes>"
      ]
     },
     "metadata": {
      "needs_background": "light"
     },
     "output_type": "display_data"
    }
   ],
   "source": [
    "# For accuracy\n",
    "plt.figure(figsize = (20, 8))\n",
    "plt.plot(history.history['loss'])\n",
    "plt.plot(history.history['val_loss'])\n",
    "plt.title('Model Loss')\n",
    "plt.xlabel('Epochs')\n",
    "plt.ylabel('Loss')\n",
    "plt.legend(['Train', 'Test'], loc ='upper left')\n",
    "plt.grid()\n",
    "plt.show()"
   ]
  },
  {
   "cell_type": "code",
   "execution_count": 81,
   "metadata": {},
   "outputs": [
    {
     "name": "stdout",
     "output_type": "stream",
     "text": [
      "4/4 [==============================] - 0s 4ms/step\n"
     ]
    }
   ],
   "source": [
    "predictions = model.predict(X_test)"
   ]
  },
  {
   "cell_type": "code",
   "execution_count": 82,
   "metadata": {},
   "outputs": [
    {
     "data": {
      "text/plain": [
       "list"
      ]
     },
     "execution_count": 82,
     "metadata": {},
     "output_type": "execute_result"
    }
   ],
   "source": [
    "predictions = [round(prediction[0]) for prediction in predictions]\n",
    "np.array(predictions)"
   ]
  },
  {
   "cell_type": "code",
   "execution_count": 77,
   "metadata": {},
   "outputs": [],
   "source": [
    "model.save('Holes_predictor.h5')"
   ]
  }
 ],
 "metadata": {
  "kernelspec": {
   "display_name": "Python 3.10.5 64-bit",
   "language": "python",
   "name": "python3"
  },
  "language_info": {
   "codemirror_mode": {
    "name": "ipython",
    "version": 3
   },
   "file_extension": ".py",
   "mimetype": "text/x-python",
   "name": "python",
   "nbconvert_exporter": "python",
   "pygments_lexer": "ipython3",
   "version": "3.10.5"
  },
  "orig_nbformat": 4,
  "vscode": {
   "interpreter": {
    "hash": "fb4569285eef3a3450cb62085a5b1e0da4bce0af555edc33dcf29baf3acc1368"
   }
  }
 },
 "nbformat": 4,
 "nbformat_minor": 2
}
